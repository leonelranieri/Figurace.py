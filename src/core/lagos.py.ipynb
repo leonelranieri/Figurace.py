{
 "cells": [
  {
   "cell_type": "code",
   "execution_count": 1,
   "id": "cf6858fa",
   "metadata": {},
   "outputs": [],
   "source": [
    "import csv, os\n",
    "\n",
    "def traduccion(coord):\n",
    "    \"\"\" convierte coordenadas en formato (grados° minutos' segundos'' punto cardinal) a formato decimal\"\"\"\n",
    "    \n",
    "    conversion = coord.split()\n",
    "    resul = []\n",
    "    for elem in conversion:\n",
    "        #separo todos los datos para manejarlos mas facil\n",
    "        grados = float(elem.split(\"°\")[0])\n",
    "        minutos = float(elem.split(\"'\")[0].split(\"°\")[1])\n",
    "        segundos = float(elem.split('\"')[0].split(\"'\")[1])\n",
    "        cardinalidad = -1 if (elem.split('\"')[1] == \"S\" \n",
    "                             or elem.split('\"')[1] == \"O\") else 1\n",
    "        #con esta formula paso de un formato al otro\n",
    "        suma = ((grados + float(minutos / 60) + float (segundos / 3600) ) * cardinalidad)\n",
    "        resul.append(suma)\n",
    "        \n",
    "    return tuple(resul)\n",
    "\n",
    "data_lagos = os.path.join(\".\",\"folder_csv\",\"Lagos Argentina - Hoja 1.csv\")\n",
    "final_lagos = os.path.join(\".\",\"folder_csv\",\"lagos_final.csv\")\n",
    "\n",
    "with open(data_lagos, \"r\") as data_set:\n",
    "    reader = csv.reader(data_set,delimiter=\",\")\n",
    "    with open(final_lagos, \"w\") as salida:\n",
    "        writer = csv.writer(salida,delimiter=\",\")\n",
    "        pivot = reader.__next__()\n",
    "        #los datos que queremos se muestran en orden distinto a los originales\n",
    "        writer.writerow([pivot[1], pivot[2], pivot[3], pivot[4], pivot[5], pivot[0]])\n",
    "        writer.writerows(map(lambda lago: [lago[1], lago[2], \n",
    "                                           lago[3], lago[4],\n",
    "                                           traduccion(lago[5]), lago[0]], reader))\n",
    "        "
   ]
  },
  {
   "cell_type": "code",
   "execution_count": null,
   "id": "cf91c0b3",
   "metadata": {},
   "outputs": [],
   "source": []
  }
 ],
 "metadata": {
  "kernelspec": {
   "display_name": "Python 3 (ipykernel)",
   "language": "python",
   "name": "python3"
  },
  "language_info": {
   "codemirror_mode": {
    "name": "ipython",
    "version": 3
   },
   "file_extension": ".py",
   "mimetype": "text/x-python",
   "name": "python",
   "nbconvert_exporter": "python",
   "pygments_lexer": "ipython3",
   "version": "3.8.10"
  }
 },
 "nbformat": 4,
 "nbformat_minor": 5
}
