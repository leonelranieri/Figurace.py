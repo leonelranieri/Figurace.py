{
 "cells": [
  {
   "cell_type": "markdown",
   "id": "282842f8",
   "metadata": {},
   "source": [
    "# Analisis de datos \n",
    "\n",
    "__En la primer casilla se vuelcan los datos y se hacen los import necesarios__\n",
    "\n",
    "__Es necesario ejecutarla para poder hacer el resto__\n",
    "\n",
    "\n"
   ]
  },
  {
   "cell_type": "code",
   "execution_count": 20,
   "id": "dd0ae4b7",
   "metadata": {},
   "outputs": [
    {
     "data": {
      "text/html": [
       "<div>\n",
       "<style scoped>\n",
       "    .dataframe tbody tr th:only-of-type {\n",
       "        vertical-align: middle;\n",
       "    }\n",
       "\n",
       "    .dataframe tbody tr th {\n",
       "        vertical-align: top;\n",
       "    }\n",
       "\n",
       "    .dataframe thead th {\n",
       "        text-align: right;\n",
       "    }\n",
       "</style>\n",
       "<table border=\"1\" class=\"dataframe\">\n",
       "  <thead>\n",
       "    <tr style=\"text-align: right;\">\n",
       "      <th></th>\n",
       "      <th>timestamp</th>\n",
       "      <th>id</th>\n",
       "      <th>evento</th>\n",
       "      <th>usuarie</th>\n",
       "      <th>estado</th>\n",
       "      <th>texto ingresado</th>\n",
       "      <th>respuesta</th>\n",
       "      <th>nivel</th>\n",
       "    </tr>\n",
       "  </thead>\n",
       "  <tbody>\n",
       "    <tr>\n",
       "      <th>0</th>\n",
       "      <td>1654492780</td>\n",
       "      <td>33ff0802-e53f-11ec-8fea-0242ac120002</td>\n",
       "      <td>inicio_partida</td>\n",
       "      <td>sofi</td>\n",
       "      <td>-</td>\n",
       "      <td>-</td>\n",
       "      <td>-</td>\n",
       "      <td>normal</td>\n",
       "    </tr>\n",
       "    <tr>\n",
       "      <th>1</th>\n",
       "      <td>1654632898</td>\n",
       "      <td>bd7f4ee8-e53f-11ec-8fea-0242ac120002</td>\n",
       "      <td>intento</td>\n",
       "      <td>sofi</td>\n",
       "      <td>error</td>\n",
       "      <td>Cristiano Ronaldo</td>\n",
       "      <td>Lionel Messi</td>\n",
       "      <td>normal</td>\n",
       "    </tr>\n",
       "    <tr>\n",
       "      <th>2</th>\n",
       "      <td>1654632999</td>\n",
       "      <td>6c1bae73-a8d8-4ded-97db-636d59af0ee2</td>\n",
       "      <td>intento</td>\n",
       "      <td>sofi</td>\n",
       "      <td>ok</td>\n",
       "      <td>Lionel Messi</td>\n",
       "      <td>Lionel Messi</td>\n",
       "      <td>normal</td>\n",
       "    </tr>\n",
       "    <tr>\n",
       "      <th>3</th>\n",
       "      <td>1654732392</td>\n",
       "      <td>03aea3f6-890c-4194-9613-9c76981083ec</td>\n",
       "      <td>intento</td>\n",
       "      <td>sofi</td>\n",
       "      <td>error</td>\n",
       "      <td>Kylian Mbappé</td>\n",
       "      <td>Alisson</td>\n",
       "      <td>normal</td>\n",
       "    </tr>\n",
       "    <tr>\n",
       "      <th>4</th>\n",
       "      <td>1654742291</td>\n",
       "      <td>a1d62ee7-4f35-48a9-9b3e-4fa2f04a6645</td>\n",
       "      <td>intento</td>\n",
       "      <td>sofi</td>\n",
       "      <td>timeout</td>\n",
       "      <td>-</td>\n",
       "      <td>Alisson</td>\n",
       "      <td>normal</td>\n",
       "    </tr>\n",
       "    <tr>\n",
       "      <th>5</th>\n",
       "      <td>1654482693</td>\n",
       "      <td>5fb49e99-53a9-48b1-b103-ecbeae12f581</td>\n",
       "      <td>fin</td>\n",
       "      <td>sofi</td>\n",
       "      <td>finalizada</td>\n",
       "      <td>-</td>\n",
       "      <td>-</td>\n",
       "      <td>normal</td>\n",
       "    </tr>\n",
       "    <tr>\n",
       "      <th>6</th>\n",
       "      <td>1654492780</td>\n",
       "      <td>33ff0802-e53f-11ec-8fea-0242ac120002</td>\n",
       "      <td>inicio_partida</td>\n",
       "      <td>sofi</td>\n",
       "      <td>-</td>\n",
       "      <td>-</td>\n",
       "      <td>-</td>\n",
       "      <td>normal</td>\n",
       "    </tr>\n",
       "    <tr>\n",
       "      <th>7</th>\n",
       "      <td>1654492780</td>\n",
       "      <td>33ff0802-e53f-11ec-8fea-0242ac120002</td>\n",
       "      <td>inicio_partida</td>\n",
       "      <td>sofi</td>\n",
       "      <td>-</td>\n",
       "      <td>-</td>\n",
       "      <td>-</td>\n",
       "      <td>normal</td>\n",
       "    </tr>\n",
       "    <tr>\n",
       "      <th>8</th>\n",
       "      <td>1654492780</td>\n",
       "      <td>5fb49e99-53a9-48b1-b103-ecbeae12f581</td>\n",
       "      <td>fin</td>\n",
       "      <td>señor x</td>\n",
       "      <td>timeout</td>\n",
       "      <td>-</td>\n",
       "      <td>-</td>\n",
       "      <td>normal</td>\n",
       "    </tr>\n",
       "    <tr>\n",
       "      <th>9</th>\n",
       "      <td>1654742291</td>\n",
       "      <td>a1d62ee7-4f35-48a9-9b3e-4fa2f04a6645</td>\n",
       "      <td>intento</td>\n",
       "      <td>señor x</td>\n",
       "      <td>timeout</td>\n",
       "      <td>-</td>\n",
       "      <td>Alisson</td>\n",
       "      <td>normal</td>\n",
       "    </tr>\n",
       "    <tr>\n",
       "      <th>10</th>\n",
       "      <td>1654492780</td>\n",
       "      <td>33ff0802-e53f-11ec-8fea-0242ac120002</td>\n",
       "      <td>inicio_partida</td>\n",
       "      <td>sofi</td>\n",
       "      <td>-</td>\n",
       "      <td>-</td>\n",
       "      <td>-</td>\n",
       "      <td>normal</td>\n",
       "    </tr>\n",
       "    <tr>\n",
       "      <th>11</th>\n",
       "      <td>1654492780</td>\n",
       "      <td>33ff0802-e53f-11ec-8fea-0242ac120002</td>\n",
       "      <td>inicio_partida</td>\n",
       "      <td>sofi</td>\n",
       "      <td>-</td>\n",
       "      <td>-</td>\n",
       "      <td>-</td>\n",
       "      <td>normal</td>\n",
       "    </tr>\n",
       "    <tr>\n",
       "      <th>12</th>\n",
       "      <td>1654632898</td>\n",
       "      <td>bd7f4ee8-e53f-11ec-8fea-0242ac120002</td>\n",
       "      <td>intento</td>\n",
       "      <td>sofi</td>\n",
       "      <td>error</td>\n",
       "      <td>Cristiano Ronaldo</td>\n",
       "      <td>Lionel Messi</td>\n",
       "      <td>normal</td>\n",
       "    </tr>\n",
       "    <tr>\n",
       "      <th>13</th>\n",
       "      <td>1654632999</td>\n",
       "      <td>6c1bae73-a8d8-4ded-97db-636d59af0ee2</td>\n",
       "      <td>intento</td>\n",
       "      <td>sofi</td>\n",
       "      <td>ok</td>\n",
       "      <td>Lionel Messi</td>\n",
       "      <td>Lionel Messi</td>\n",
       "      <td>normal</td>\n",
       "    </tr>\n",
       "    <tr>\n",
       "      <th>14</th>\n",
       "      <td>1654482693</td>\n",
       "      <td>5fb49e99-53a9-48b1-b103-ecbeae12f581</td>\n",
       "      <td>fin</td>\n",
       "      <td>valen</td>\n",
       "      <td>abandonada</td>\n",
       "      <td>-</td>\n",
       "      <td>-</td>\n",
       "      <td>dificil</td>\n",
       "    </tr>\n",
       "    <tr>\n",
       "      <th>15</th>\n",
       "      <td>1654492780</td>\n",
       "      <td>33ff0802-e53f-11ec-8fea-0242ac120002</td>\n",
       "      <td>inicio_partida</td>\n",
       "      <td>leo</td>\n",
       "      <td>-</td>\n",
       "      <td>-</td>\n",
       "      <td>-</td>\n",
       "      <td>normal</td>\n",
       "    </tr>\n",
       "    <tr>\n",
       "      <th>16</th>\n",
       "      <td>1654632898</td>\n",
       "      <td>bd7f4ee8-e53f-11ec-8fea-0242ac120002</td>\n",
       "      <td>intento</td>\n",
       "      <td>leo</td>\n",
       "      <td>ok</td>\n",
       "      <td>Cristiano Ronaldo</td>\n",
       "      <td>Cristiano Ronaldo</td>\n",
       "      <td>normal</td>\n",
       "    </tr>\n",
       "    <tr>\n",
       "      <th>17</th>\n",
       "      <td>1654632999</td>\n",
       "      <td>6c1bae73-a8d8-4ded-97db-636d59af0ee2</td>\n",
       "      <td>intento</td>\n",
       "      <td>leo</td>\n",
       "      <td>ok</td>\n",
       "      <td>Lionel Messi</td>\n",
       "      <td>Lionel Messi</td>\n",
       "      <td>normal</td>\n",
       "    </tr>\n",
       "    <tr>\n",
       "      <th>18</th>\n",
       "      <td>1654482693</td>\n",
       "      <td>5fb49e99-53a9-48b1-b103-ecbeae12f581</td>\n",
       "      <td>fin</td>\n",
       "      <td>leo</td>\n",
       "      <td>error</td>\n",
       "      <td>-</td>\n",
       "      <td>-</td>\n",
       "      <td>normal</td>\n",
       "    </tr>\n",
       "  </tbody>\n",
       "</table>\n",
       "</div>"
      ],
      "text/plain": [
       "     timestamp                                    id          evento  usuarie  \\\n",
       "0   1654492780  33ff0802-e53f-11ec-8fea-0242ac120002  inicio_partida     sofi   \n",
       "1   1654632898  bd7f4ee8-e53f-11ec-8fea-0242ac120002         intento     sofi   \n",
       "2   1654632999  6c1bae73-a8d8-4ded-97db-636d59af0ee2         intento     sofi   \n",
       "3   1654732392  03aea3f6-890c-4194-9613-9c76981083ec         intento     sofi   \n",
       "4   1654742291  a1d62ee7-4f35-48a9-9b3e-4fa2f04a6645         intento     sofi   \n",
       "5   1654482693  5fb49e99-53a9-48b1-b103-ecbeae12f581             fin     sofi   \n",
       "6   1654492780  33ff0802-e53f-11ec-8fea-0242ac120002  inicio_partida     sofi   \n",
       "7   1654492780  33ff0802-e53f-11ec-8fea-0242ac120002  inicio_partida     sofi   \n",
       "8   1654492780  5fb49e99-53a9-48b1-b103-ecbeae12f581             fin  señor x   \n",
       "9   1654742291  a1d62ee7-4f35-48a9-9b3e-4fa2f04a6645         intento  señor x   \n",
       "10  1654492780  33ff0802-e53f-11ec-8fea-0242ac120002  inicio_partida     sofi   \n",
       "11  1654492780  33ff0802-e53f-11ec-8fea-0242ac120002  inicio_partida     sofi   \n",
       "12  1654632898  bd7f4ee8-e53f-11ec-8fea-0242ac120002         intento     sofi   \n",
       "13  1654632999  6c1bae73-a8d8-4ded-97db-636d59af0ee2         intento     sofi   \n",
       "14  1654482693  5fb49e99-53a9-48b1-b103-ecbeae12f581             fin    valen   \n",
       "15  1654492780  33ff0802-e53f-11ec-8fea-0242ac120002  inicio_partida      leo   \n",
       "16  1654632898  bd7f4ee8-e53f-11ec-8fea-0242ac120002         intento      leo   \n",
       "17  1654632999  6c1bae73-a8d8-4ded-97db-636d59af0ee2         intento      leo   \n",
       "18  1654482693  5fb49e99-53a9-48b1-b103-ecbeae12f581             fin      leo   \n",
       "\n",
       "        estado    texto ingresado          respuesta    nivel  \n",
       "0            -                  -                  -   normal  \n",
       "1        error  Cristiano Ronaldo       Lionel Messi   normal  \n",
       "2           ok       Lionel Messi       Lionel Messi   normal  \n",
       "3        error      Kylian Mbappé            Alisson   normal  \n",
       "4      timeout                  -            Alisson   normal  \n",
       "5   finalizada                  -                  -   normal  \n",
       "6            -                  -                  -   normal  \n",
       "7            -                  -                  -   normal  \n",
       "8      timeout                  -                  -   normal  \n",
       "9      timeout                  -            Alisson   normal  \n",
       "10           -                  -                  -   normal  \n",
       "11           -                  -                  -   normal  \n",
       "12       error  Cristiano Ronaldo       Lionel Messi   normal  \n",
       "13          ok       Lionel Messi       Lionel Messi   normal  \n",
       "14  abandonada                  -                  -  dificil  \n",
       "15           -                  -                  -   normal  \n",
       "16          ok  Cristiano Ronaldo  Cristiano Ronaldo   normal  \n",
       "17          ok       Lionel Messi       Lionel Messi   normal  \n",
       "18       error                  -                  -   normal  "
      ]
     },
     "execution_count": 20,
     "metadata": {},
     "output_type": "execute_result"
    }
   ],
   "source": [
    "import os\n",
    "import pandas as pd\n",
    "import datetime\n",
    "import random\n",
    "from matplotlib import pyplot as plt\n",
    "%matplotlib inline\n",
    "\n",
    "registro = os.path.join(os.getcwd(), \"data\", \"registro_ejemplo.csv\")\n",
    "\n",
    "data_set = pd.read_csv(registro, encoding=\"utf-8\")\n",
    "\n",
    "data_set"
   ]
  },
  {
   "cell_type": "markdown",
   "id": "b481da91",
   "metadata": {},
   "source": [
    "## Definiciones de las funciones que grafican:\n",
    "__tambien hay que ejecutar esto para que ande todo__"
   ]
  },
  {
   "cell_type": "code",
   "execution_count": 64,
   "id": "97dc86f8",
   "metadata": {},
   "outputs": [],
   "source": [
    "def dibujito_torta(etiquetas, datos_dibujo, titulo, explota = (0.1), bbox = (1.2, 0.9)):\n",
    "    \"\"\"Hace un dibujo tipo torta con los datos que le pasas\"\"\"\n",
    "    explode = tuple([explota for x in datos_dibujo])\n",
    "\n",
    "    plt.pie(datos_dibujo, explode=explode, labels=etiquetas, autopct='%1.2f%%',\n",
    "    shadow=True, startangle=90, labeldistance= 1.1)\n",
    "\n",
    "    plt.axis('equal')\n",
    "    plt.legend(etiquetas, loc=1, bbox_to_anchor=bbox)\n",
    "    plt.title(titulo)\n",
    "    plt.show()\n",
    "\n",
    "def dibujito_barra(llaves, valores, titulo, size = (6,6), prcnt = \"\"):\n",
    "    colores = [\n",
    "            \"Red\", \"Orange\", \"Purple\", \"Pink\",\n",
    "            \"Yellow\", \"Blue\", \"Green\", \"bisque\",\n",
    "            \"aqua\", \"magenta\", \"peru\", \"firebrick\",\n",
    "            \"sienna\", \"gold\", \"deeppink\"\n",
    "          ]\n",
    "    plt.figure(figsize=size)\n",
    "    lista_colores = [random.choice(colores) for i in llaves]                  \n",
    "    graph = plt.bar(llaves, valores, color = lista_colores)\n",
    "    plt.title(titulo)\n",
    "    i = 0\n",
    "    for p in graph:\n",
    "        width = p.get_width()\n",
    "        height = p.get_height()\n",
    "        x, y = p.get_xy()\n",
    "        plt.text(x+width/2,\n",
    "                 y+height*1.01,\n",
    "                 str(list(valores)[i]) +prcnt,\n",
    "                 ha='center',\n",
    "                 weight='bold')\n",
    "        i += 1\n",
    "    plt.show()"
   ]
  },
  {
   "cell_type": "markdown",
   "id": "5be5f0b3",
   "metadata": {},
   "source": [
    "## 1) Top 10 primeras palabras que se encuentran en las partidas:\n",
    "\n",
    "# no se me ocurrio una mejor manera, se escuchan sugerencias.\n",
    "\n",
    "# falta contarlas, pero tambien faltan los datos.\n",
    "\n",
    "1. Saca todos los datos que no importan.\n",
    "<br><br>\n",
    "2. Itera para sacar el 1er \"ok\" de cada partida.\n",
    "<br><br>\n",
    "3. Usamos el evento \"inicio_partida\" para separarlas."
   ]
  },
  {
   "cell_type": "code",
   "execution_count": 49,
   "id": "1988d26e",
   "metadata": {},
   "outputs": [
    {
     "data": {
      "image/png": "[encoded data removed]",
      "text/plain": [
       "<Figure size 432x432 with 1 Axes>"
      ]
     },
     "metadata": {
      "needs_background": "light"
     },
     "output_type": "display_data"
    }
   ],
   "source": [
    "data_frame = data_set.drop([\"timestamp\", \"id\", \"usuarie\", \"texto ingresado\", \"nivel\"], axis=\"columns\")\n",
    "data_frame = data_frame.drop(data_frame[data_frame.estado == \"error\"].index)\n",
    "data_frame = data_frame.drop(data_frame[data_frame.estado == \"timeout\"].index)\n",
    "\n",
    "nueva = True\n",
    "lista_palabras = []\n",
    "\n",
    "for row in data_frame.itertuples():\n",
    "    evento = getattr(row, \"evento\")\n",
    "    estado = getattr(row, \"estado\")\n",
    "    if evento == \"inicio_partida\":\n",
    "        nueva = True\n",
    "    if nueva and estado == \"ok\":\n",
    "        lista_palabras.append(getattr(row, \"respuesta\"))\n",
    "        nueva = False\n",
    "\n",
    "df_new = pd.DataFrame(lista_palabras, columns=[\"Palabras\"])\n",
    "serie = df_new.groupby(\"Palabras\").size()\n",
    "serie = serie.sort_values(ascending=False).head(10)\n",
    "\n",
    "dibujito_barra(serie.index, serie.values, \"Top 10 palabras que se encuentran primero en un partida:\")"
   ]
  },
  {
   "cell_type": "markdown",
   "id": "32772765",
   "metadata": {},
   "source": [
    "## 2) Grafico de partidas finalizadas por estado:\n",
    "\n",
    "__pido perdon por ese for__\n",
    "\n",
    "# acordate de modificar esto en el futuro cercano"
   ]
  },
  {
   "cell_type": "code",
   "execution_count": 21,
   "id": "fba16d70",
   "metadata": {},
   "outputs": [
    {
     "data": {
      "image/png": "[encoded data removed]",
      "text/plain": [
       "<Figure size 432x288 with 1 Axes>"
      ]
     },
     "metadata": {},
     "output_type": "display_data"
    }
   ],
   "source": [
    "df = data_set.loc[:, [\"evento\", \"estado\"]]\n",
    "df = df.drop(df[df.evento == \"intento\"].index)\n",
    "\n",
    "cant_error = 0\n",
    "nueva = False\n",
    "\n",
    "for row in df.itertuples():\n",
    "    evento = getattr(row, \"evento\")\n",
    "    if nueva and evento == \"inicio_partida\":\n",
    "        cant_error += 1\n",
    "    elif evento == \"inicio_partida\":\n",
    "        nueva = True\n",
    "    elif evento == \"fin\":\n",
    "        nueva = False\n",
    "if nueva:\n",
    "    cant_error += 1\n",
    "\n",
    "df = df[df[\"evento\"] == \"fin\"]\n",
    "df = df.groupby([\"estado\"]).size()\n",
    "\n",
    "etiquetas = [\"finalizada\", \"abandonada\", \"timeout\", \"error\"]\n",
    "\n",
    "datos_dibujo = []\n",
    "for key in etiquetas[:-1]:\n",
    "    datos_dibujo.append(df[key] if key in df.index else 0)\n",
    "datos_dibujo.append(cant_error)\n",
    "\n",
    "dibujito_torta(etiquetas, datos_dibujo, \"partidas finalizadas por estado:\", bbox=(1.3, 0.9))"
   ]
  },
  {
   "cell_type": "markdown",
   "id": "01334711",
   "metadata": {},
   "source": [
    "## 3) Grafico de partidas finalizadas segun genero:\n",
    "\n",
    "# acordate de meter un metodo en perfiles para no romper encapsulamiento\n",
    "\n",
    "1. pido los datos de los usuarios, para poder hacer la conexion nombre/genero.\n",
    "<br><br> \n",
    "2. separo todos los eventos de fin.\n",
    "<br><br>\n",
    "3. enmascaro los datos para cambiar nombre por el genero autopercibido.\n",
    "<br><br>\n",
    "4. paso los datos a la figurita."
   ]
  },
  {
   "cell_type": "code",
   "execution_count": 12,
   "id": "af18cad4",
   "metadata": {},
   "outputs": [
    {
     "data": {
      "image/png": "[encoded data removed]",
      "text/plain": [
       "<Figure size 432x288 with 1 Axes>"
      ]
     },
     "metadata": {},
     "output_type": "display_data"
    }
   ],
   "source": [
    "from json import load as jload\n",
    "from jugadores import carga_analisy as cargar\n",
    "\n",
    "usuarios = cargar()\n",
    "    \n",
    "df = data_set[data_set[\"evento\"] == \"fin\"]\n",
    "# Si no hago la copia me tira un cartelito rojo\n",
    "df1 = df.copy()\n",
    "df1[\"usuarie\"]= df[\"usuarie\"].apply(lambda x: usuarios[x][1] if x in usuarios.keys() else \"indeterminado\")\n",
    "\n",
    "nuevo = df1.groupby([\"usuarie\"]).size()\n",
    "\n",
    "etiquetas = nuevo.index.unique()\n",
    "etiquetas = list(etiquetas)\n",
    "\n",
    "datos_dibujo = []\n",
    "for key in etiquetas:\n",
    "    datos_dibujo.append(nuevo[key])\n",
    "\n",
    "dibujito_torta(etiquetas, datos_dibujo, \"partidas finalizadas por genero:\", (0.05))"
   ]
  },
  {
   "cell_type": "markdown",
   "id": "b6aaa502",
   "metadata": {},
   "source": [
    "## 4) Grafico de las partidas finalizadas segun nivel:\n",
    "\n",
    "__me quedó la duda de si poner en el grafico las dificultades que no tienen partida ó no__\n",
    "\n",
    "__las terminé agregando__\n",
    "\n",
    "1. separo las partidas que finalizaron.\n",
    "<br><br>\n",
    "2. las agrupo por nivel y mando al grafico."
   ]
  },
  {
   "cell_type": "code",
   "execution_count": 24,
   "id": "de4c448a",
   "metadata": {},
   "outputs": [
    {
     "data": {
      "image/png": "[encoded data removed]",
      "text/plain": [
       "<Figure size 432x288 with 1 Axes>"
      ]
     },
     "metadata": {},
     "output_type": "display_data"
    }
   ],
   "source": [
    "df = data_set[data_set[\"evento\"] == \"fin\"]\n",
    "df = df.groupby([\"nivel\"]).size()\n",
    "\n",
    "etiquetas = [\"facil\", \"normal\", \"dificil\"]\n",
    "\n",
    "datos_dibujo = []\n",
    "for key in etiquetas:\n",
    "    datos_dibujo.append(df[key] if key in df.index else 0)\n",
    "\n",
    "dibujito_torta(etiquetas, datos_dibujo, \"porcentaje partidas finalizadas/dificultad:\", (0.05))"
   ]
  },
  {
   "cell_type": "markdown",
   "id": "05684d1a",
   "metadata": {},
   "source": [
    "## 5) Duracion total de la partida:\n",
    "\n",
    "# no se como se calcula en el registro\n",
    "\n",
    "# pide duracion total de todas las partidas\n",
    "\n",
    "# en un grafico de puntitos (tipo garfico de toda la vida)\n",
    "\n",
    "# hay que testear una vez que completemos el registro"
   ]
  },
  {
   "cell_type": "code",
   "execution_count": 57,
   "id": "327ecf75",
   "metadata": {},
   "outputs": [
    {
     "data": {
      "image/png": "[encoded data removed]",
      "text/plain": [
       "<Figure size 432x288 with 1 Axes>"
      ]
     },
     "metadata": {
      "needs_background": "light"
     },
     "output_type": "display_data"
    }
   ],
   "source": [
    "def sacar_tiempo(inicio, fin):\n",
    "    if inicio > fin:\n",
    "        respuesta = pd.Timedelta(fin - inicio).total_seconds()\n",
    "    else:\n",
    "        respuesta = pd.Timedelta(inicio - fin).total_seconds()\n",
    "    \n",
    "    if respuesta > 0:\n",
    "        return (str(datetime.timedelta(seconds=respuesta)))\n",
    "    else:\n",
    "        return (str(datetime.timedelta(seconds=respuesta)))[8:]\n",
    "\n",
    "df = data_set.drop(data_set[data_set.evento == \"intento\"].index)\n",
    "df.timestamp = df.timestamp.apply(lambda x: pd.Timestamp(x, unit='s'))\n",
    "\n",
    "tempo = 0\n",
    "partida = True\n",
    "lista = []\n",
    "\n",
    "for index, row in df.iterrows():\n",
    "    if row[\"evento\"] == \"inicio_partida\":\n",
    "        tempo = row[\"timestamp\"]\n",
    "        partida = True\n",
    "    elif row[\"evento\"] == \"fin\" and partida:\n",
    "        lista.append(sacar_tiempo(tempo,row[\"timestamp\"]))\n",
    "        partida = False\n",
    "\n",
    "lista = [x for x in lista if x]\n",
    "lista = list(map(lambda x: pd.Timedelta(x), lista))\n",
    "\n",
    "\n",
    "x = list(map(lambda x: str(x)[7:], lista))\n",
    "y = [x.count(elem) for elem in dict.fromkeys(x)]\n",
    "x = list(dict.fromkeys(x))\n",
    "\n",
    "plt.xlabel(\"tiempos de partida\")\n",
    "plt.ylabel(\"cantidad de ocurrencias\")\n",
    "plt.title(\"tiempos de partida verison beta\")\n",
    "plt.plot(x, y, 'o', color='Blue', markersize=15, linewidth=3);"
   ]
  },
  {
   "cell_type": "markdown",
   "id": "79913806",
   "metadata": {},
   "source": [
    "## 6) tiempo de la respuesta correcta mas rapida:\n",
    "\n",
    "# Faltan datos para chequear que anda\n",
    "\n",
    "# revisar"
   ]
  },
  {
   "cell_type": "code",
   "execution_count": 58,
   "id": "18e36a64",
   "metadata": {},
   "outputs": [
    {
     "data": {
      "text/plain": [
       "[0.0, 0.0, 0.00014, 0.0]"
      ]
     },
     "execution_count": 58,
     "metadata": {},
     "output_type": "execute_result"
    }
   ],
   "source": [
    "data_frame = data_set.drop([\"id\", \"usuarie\", \"texto ingresado\", \"nivel\"], axis=\"columns\")\n",
    "df = data_frame.drop(data_frame[data_frame.evento == \"fin\"].index)\n",
    "df.timestamp = df.timestamp.apply(lambda x: pd.Timestamp(x, unit='s'))\n",
    "\n",
    "anterior = 0\n",
    "lista_tiempos = []\n",
    "\n",
    "for index, row in data_frame.iterrows():\n",
    "    if anterior and row[\"estado\"] == \"ok\":\n",
    "        lista_tiempos.append(pd.Timedelta(row[\"timestamp\"] - anterior).total_seconds()) \n",
    "    anterior = row[\"timestamp\"]\n",
    "    \n",
    "lista_tiempos\n",
    "\n",
    "#min(lista)\n",
    "#faltan datos reales para chequear que funciona"
   ]
  },
  {
   "cell_type": "markdown",
   "id": "af3f0a52",
   "metadata": {},
   "source": [
    "## 7) Promedio de tiempo de respuesta para respuestas correctas:\n",
    "\n",
    "# la vida...\n",
    "\n",
    "# Siguen faltando datos "
   ]
  },
  {
   "cell_type": "code",
   "execution_count": 59,
   "id": "c464f13b",
   "metadata": {},
   "outputs": [
    {
     "data": {
      "text/plain": [
       "[0.0, 0.0, 0.00014, 0.0]"
      ]
     },
     "execution_count": 59,
     "metadata": {},
     "output_type": "execute_result"
    }
   ],
   "source": [
    "data_frame = data_set.drop([\"id\", \"usuarie\", \"texto ingresado\", \"nivel\"], axis=\"columns\")\n",
    "df = data_frame.drop(data_frame[data_frame.evento == \"fin\"].index)\n",
    "df.timestamp = df.timestamp.apply(lambda x: pd.Timestamp(x, unit='s'))\n",
    "\n",
    "anterior = 0\n",
    "lista_tiempos = []\n",
    "\n",
    "for index, row in data_frame.iterrows():\n",
    "    if anterior and row[\"estado\"] == \"ok\":\n",
    "        lista_tiempos.append(pd.Timedelta(row[\"timestamp\"] - anterior).total_seconds()) \n",
    "    anterior = row[\"timestamp\"]\n",
    "    \n",
    "lista_tiempos\n",
    "\n",
    "#igual que el anterior, pero sumas todo y dividis por len(lista)\n",
    "# ...\n",
    "# creo"
   ]
  },
  {
   "cell_type": "markdown",
   "id": "b796b163",
   "metadata": {},
   "source": [
    "## 8) Promedio de tiempo de partida general:\n",
    "\n",
    "# separador"
   ]
  },
  {
   "cell_type": "code",
   "execution_count": 155,
   "id": "a466235a",
   "metadata": {},
   "outputs": [
    {
     "data": {
      "text/plain": [
       "'21:11:53'"
      ]
     },
     "execution_count": 155,
     "metadata": {},
     "output_type": "execute_result"
    }
   ],
   "source": [
    "def sacar_tiempo(inicio, fin):\n",
    "    if inicio > fin:\n",
    "        respuesta = pd.Timedelta(fin - inicio).total_seconds()\n",
    "    else:\n",
    "        respuesta = pd.Timedelta(inicio - fin).total_seconds()\n",
    "    \n",
    "    if respuesta > 0:\n",
    "        return (str(datetime.timedelta(seconds=respuesta)))\n",
    "    else:\n",
    "        return (str(datetime.timedelta(seconds=respuesta)))[8:]\n",
    "\n",
    "df = data_set.drop(data_set[data_set.evento == \"intento\"].index)\n",
    "df.timestamp = df.timestamp.apply(lambda x: pd.Timestamp(x, unit='s'))\n",
    "\n",
    "tempo = 0\n",
    "partida = True\n",
    "lista = []\n",
    "\n",
    "for index, row in df.iterrows():\n",
    "    if row[\"evento\"] == \"inicio_partida\":\n",
    "        tempo = row[\"timestamp\"]\n",
    "        partida = True\n",
    "    elif row[\"evento\"] == \"fin\" and partida:\n",
    "        lista.append(sacar_tiempo(tempo,row[\"timestamp\"]))\n",
    "        partida = False\n",
    "\n",
    "lista = [x for x in lista if x]\n",
    "lista = list(map(lambda x: pd.Timedelta(x), lista))\n",
    "\n",
    "average = 0\n",
    "for date in lista:\n",
    "    average += date.total_seconds()\n",
    "\n",
    "str(datetime.timedelta(seconds=average/len(lista)))\n",
    "\n",
    "#igual que el de 2 veces arriba, no entiendo la diferencia conceptual de cada uno\n",
    "# preguntar en la consulta"
   ]
  },
  {
   "cell_type": "markdown",
   "id": "96cd3108",
   "metadata": {},
   "source": [
    "## 9) Porcentaje de acierto por usuarie:\n",
    "\n",
    "# necesitaria ampliar el registro_ejemplo para esto\n",
    "\n",
    "# "
   ]
  },
  {
   "cell_type": "code",
   "execution_count": 34,
   "id": "fb4db653",
   "metadata": {},
   "outputs": [
    {
     "data": {
      "image/png": "[encoded data removed]",
      "text/plain": [
       "<Figure size 432x504 with 1 Axes>"
      ]
     },
     "metadata": {
      "needs_background": "light"
     },
     "output_type": "display_data"
    }
   ],
   "source": [
    "df = data_set.drop(data_set[data_set.evento != \"intento\"].index)\n",
    "usuarios = data_set[\"usuarie\"].unique()\n",
    "nuevo = df.groupby([\"usuarie\", \"estado\"]).size()\n",
    "\n",
    "result = {}\n",
    "\n",
    "for nombre in usuarios:\n",
    "    if nombre in nuevo and \"ok\" in nuevo[nombre].keys():\n",
    "        aux = (nuevo[nombre].ok / nuevo[nombre].sum()) * 100\n",
    "        result[nombre] = (round((aux), 2))\n",
    "        \n",
    "dibujito_barra(result.keys(), result.values(), \"Porcentaje de aciertos por usuarie:\", (6,7), \"%\")"
   ]
  },
  {
   "cell_type": "markdown",
   "id": "c3774a4f",
   "metadata": {},
   "source": [
    "## 10) Cantidad de tarjetas para las que el usuarie no dió respuesta (timeout):\n",
    "\n",
    "# Taria bueno un registro"
   ]
  },
  {
   "cell_type": "code",
   "execution_count": 35,
   "id": "e71c3b9c",
   "metadata": {},
   "outputs": [
    {
     "data": {
      "image/png": "[encoded data removed]",
      "text/plain": [
       "<Figure size 576x576 with 1 Axes>"
      ]
     },
     "metadata": {
      "needs_background": "light"
     },
     "output_type": "display_data"
    }
   ],
   "source": [
    "df = data_set.drop(data_set[data_set.evento != \"intento\"].index)\n",
    "usuarios = data_set[\"usuarie\"].unique()\n",
    "df = df.drop(df[df.estado != \"timeout\"].index)\n",
    "nuevo = df.groupby([\"usuarie\", \"estado\"]).size()\n",
    "\n",
    "\n",
    "result = {}\n",
    "\n",
    "for nombre in usuarios:\n",
    "    if nombre in nuevo:\n",
    "        result[nombre] = nuevo[nombre].timeout\n",
    "    else:\n",
    "        result[nombre] = 0\n",
    "        \n",
    "dibujito_barra(result.keys(), result.values(), \"Cantidad de veces que el usuarie no dio respuesta(por timeout):\", (8,8))"
   ]
  },
  {
   "cell_type": "markdown",
   "id": "9ba02b4b",
   "metadata": {},
   "source": [
    "## 11) Cantidad de tarjetas en las que el usuarie dió una respuesta errónea:\n",
    "\n",
    "# lo mismo que el anterior"
   ]
  },
  {
   "cell_type": "code",
   "execution_count": 63,
   "id": "7278bdf1",
   "metadata": {},
   "outputs": [
    {
     "data": {
      "image/png": "[encoded data removed]",
      "text/plain": [
       "<Figure size 504x504 with 1 Axes>"
      ]
     },
     "metadata": {
      "needs_background": "light"
     },
     "output_type": "display_data"
    }
   ],
   "source": [
    "df = data_set.drop(data_set[data_set.evento != \"intento\"].index)\n",
    "usuarios = data_set[\"usuarie\"].unique()\n",
    "df = df.drop(df[df.estado != \"error\"].index)\n",
    "nuevo = df.groupby([\"usuarie\", \"estado\"]).size()\n",
    "\n",
    "result = {}\n",
    "\n",
    "for nombre in usuarios:\n",
    "    if nombre in nuevo:\n",
    "        result[nombre] = nuevo[nombre].error\n",
    "    else:\n",
    "        result[nombre] = 0\n",
    "        \n",
    "dibujito_barra(result.keys(), result.values(), \"Cantidad de veces que el usuarie erró una respuesta:\", (7,7))"
   ]
  },
  {
   "cell_type": "code",
   "execution_count": null,
   "id": "87e6a716",
   "metadata": {},
   "outputs": [],
   "source": []
  }
 ],
 "metadata": {
  "kernelspec": {
   "display_name": "Python 3 (ipykernel)",
   "language": "python",
   "name": "python3"
  },
  "language_info": {
   "codemirror_mode": {
    "name": "ipython",
    "version": 3
   },
   "file_extension": ".py",
   "mimetype": "text/x-python",
   "name": "python",
   "nbconvert_exporter": "python",
   "pygments_lexer": "ipython3",
   "version": "3.8.10"
  }
 },
 "nbformat": 4,
 "nbformat_minor": 5
}
