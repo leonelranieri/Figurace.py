{
 "cells": [
  {
   "cell_type": "markdown",
   "id": "86c8634c",
   "metadata": {},
   "source": [
    "# Explicación del proceso de trabajo sobre el dataset de spotify"
   ]
  },
  {
   "cell_type": "markdown",
   "id": "5f3bd0b0",
   "metadata": {},
   "source": [
    "## Consigna : \n",
    "Top 100 de temas musicales de Spotify 2010 a 2019: \n",
    "\n",
    "Deberá adaptar los datos de la siguiente forma:\n",
    "● Poner en “title case” los géneros musicales excepto las siglas EDM, DFW, UK, R&B y\n",
    "LGBTQ+ que deben ir en mayúsculas. Por ejemplo “dfw rap” debe ser transformado a\n",
    "“DFW Rap”.\n",
    "● Considerar también la excepción “k-pop” que debe ser transformada a “K-Pop”.\n",
    "● Se utilizarán como datos de las tarjetas “Top Genre”, “Year Released”, “BPM”, “Top\n",
    "Year” y “Artist Type”. Como dato a adivinar se utilizará “Artist”. Descartar el resto de las\n",
    "columnas.\n",
    "● El archivo resultante deberá tener las siguientes columnas (en este orden específico):\n",
    "“Top Genre”, “Artist Type”, “Year Released”, “Top Year”, “BPM” y “Artist”\n"
   ]
  },
  {
   "cell_type": "markdown",
   "id": "ff23f8e3",
   "metadata": {},
   "source": [
    "### URL : https://www.kaggle.com/datasets/muhmores/spotify-top-100-songs-of-20152019"
   ]
  },
  {
   "cell_type": "markdown",
   "id": "37ce6206",
   "metadata": {},
   "source": [
    "## Implementación del código\n",
    "  "
   ]
  },
  {
   "cell_type": "markdown",
   "id": "60b9c674",
   "metadata": {},
   "source": [
    "Primero sería necesario importar las librerias a utilizar"
   ]
  },
  {
   "cell_type": "code",
   "execution_count": 9,
   "id": "de2020e2",
   "metadata": {},
   "outputs": [],
   "source": [
    "import os\n",
    "import csv\n",
    "import string "
   ]
  },
  {
   "cell_type": "markdown",
   "id": "8c3fa13e",
   "metadata": {},
   "source": [
    "Luego es necesario preparar las rutas:\n",
    "\n",
    "por un lado, para acceder al dataset que debemos procesar;\n",
    "\n",
    "y por el otro, para ubicar el directorio en donde quedaran los archivos necesarios que deben ser creados para llevar a cabo el procesamiento requerido. "
   ]
  },
  {
   "cell_type": "code",
   "execution_count": 10,
   "id": "f16772a6",
   "metadata": {},
   "outputs": [],
   "source": [
    "carpeta_archivo = os.path.join(\"archive (1)\")\n",
    "ruta_archivos = os.path.join(os.getcwd(), carpeta_archivo)\n",
    "\n",
    "spotify_csv = os.path.join(ruta_archivos, \"Spotify 2010 - 2019 Top 100.csv\")\n",
    "modificado = os.path.join(ruta_archivos, \"spotify_modificado.csv\")\n",
    "artistas_csv = os.path.join(ruta_archivos, \"artistas.csv\")"
   ]
  },
  {
   "cell_type": "markdown",
   "id": "42825254",
   "metadata": {},
   "source": [
    "Para el procesamiento de los datos es necesario modificar primero el dataset, está función permite llevar a cabo ese modificación. Para ello recibe como parámetro el dataset y un archivo csv utilizado para almacenar la modificación. "
   ]
  },
  {
   "cell_type": "code",
   "execution_count": 12,
   "id": "ead55e31",
   "metadata": {},
   "outputs": [],
   "source": [
    "def modificacion_del_spotify(spotify_csv, spotify_modificado):\n",
    "\n",
    "    \"\"\" en base a un archivo csv ('Spotify 2010 - 2019'), se carga otro que se recibe como parámetro denominado \n",
    "    \n",
    "    'spotify_modificado.csv' con los datos de la columna género modificados \n",
    "    \n",
    "    según una serie de pautas descriptas en la consigna\"\"\"\n",
    "\n",
    "    with open(spotify_csv, \"r\", encoding=\"utf-8\") as data_set:\n",
    "        reader = csv.reader(data_set, delimiter=',')\n",
    "        encabezado = reader.__next__()\n",
    "\n",
    "        with open(spotify_modificado, \"w\", encoding=\"utf-8\") as copia:\n",
    "            writer = csv.writer(copia, lineterminator=\"\\n\")\n",
    "            writer.writerow(encabezado)\n",
    "     \n",
    "            siglas = [\"EDM\", \"DFW\", \"UK\", \"R&B\", \"LGBTQ+\"]\n",
    "\n",
    "            for row in reader: \n",
    "                linea = row\n",
    "\n",
    "                if row[2].split(\" \")[0].upper() in siglas: \n",
    "                    sigla = row[2].split(\" \")[0].upper()\n",
    "                    genero = sigla + \" \".join(row[2].split(\" \")[1:])\n",
    "                    linea[2] = genero\n",
    "                elif row[2].split(\"-\")[0] == \"k\":\n",
    "                    char = row[2].split(\" \")[0].upper()\n",
    "                    genero = char + \"-\".join(row[2].split(\" \")[1:])\n",
    "                    linea[2] = genero\n",
    "                else:\n",
    "                    genero = row[2].title()\n",
    "                    linea[2] = genero\n",
    "                \n",
    "                writer.writerow(linea) \n"
   ]
  },
  {
   "cell_type": "markdown",
   "id": "f4d1fc45",
   "metadata": {},
   "source": [
    "Esta función genera un nuevo archivo csv con ciertos criterios tomados del dataset spotify"
   ]
  },
  {
   "cell_type": "code",
   "execution_count": 15,
   "id": "65848b42",
   "metadata": {},
   "outputs": [],
   "source": [
    "def generar_archivo_de_trabajo(spotify_modificado, artistas):\n",
    "    \"\"\" esta función recibe el archivo 'spotify_modificado.csv' y carga un nuevo archivo 'artistas.csv'\n",
    "    \n",
    "        eliminando las columnas que no son de intéres\n",
    "    \"\"\"\n",
    "\n",
    "    with open(spotify_modificado, \"r\", encoding=\"utf-8\") as data_set:\n",
    "        reader = csv.reader(data_set, delimiter=\",\")\n",
    "    \n",
    "        encabezado = reader.__next__()\n",
    "\n",
    "        encabezado_salida = []\n",
    "\n",
    "        encabezado_salida.append(encabezado[2].title())\n",
    "        encabezado_salida.append(encabezado[16].title())\n",
    "        encabezado_salida.append(encabezado[3].title())\n",
    "        encabezado_salida.append(encabezado[15].title())\n",
    "        encabezado_salida.append(encabezado[5].upper())\n",
    "        encabezado_salida.append(encabezado[1].title())\n",
    "\n",
    "        with open(artistas, \"w\", encoding=\"utf-8\") as salida:\n",
    "            \n",
    "            writer = csv.writer(salida, lineterminator=\"\\n\")    \n",
    "            writer.writerow(encabezado_salida)\n",
    "            \n",
    "            writer.writerows(map(lambda row: [row[2], row[16], row[3], row[15], row[5], row[1]], reader))       "
   ]
  },
  {
   "cell_type": "markdown",
   "id": "dc03d2d5",
   "metadata": {},
   "source": [
    "Se relizá el llamado a las funciones para generar la información necesaria.  "
   ]
  },
  {
   "cell_type": "code",
   "execution_count": 16,
   "id": "15c7bf75",
   "metadata": {},
   "outputs": [],
   "source": [
    "modificacion_del_spotify(spotify_csv, modificado)\n",
    "generar_archivo_de_trabajo(modificado, artistas_csv) "
   ]
  }
 ],
 "metadata": {
  "interpreter": {
   "hash": "6ed981f55a472a63f6862a73fb06fc0e77ac1f0ad6de608810f204144e7f038c"
  },
  "kernelspec": {
   "display_name": "Python 3.9.7 ('base')",
   "language": "python",
   "name": "python3"
  },
  "language_info": {
   "codemirror_mode": {
    "name": "ipython",
    "version": 3
   },
   "file_extension": ".py",
   "mimetype": "text/x-python",
   "name": "python",
   "nbconvert_exporter": "python",
   "pygments_lexer": "ipython3",
   "version": "3.9.7"
  }
 },
 "nbformat": 4,
 "nbformat_minor": 5
}
