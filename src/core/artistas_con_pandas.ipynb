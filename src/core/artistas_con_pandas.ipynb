{
 "cells": [
  {
   "cell_type": "markdown",
   "id": "b5e4057a",
   "metadata": {},
   "source": [
    "# Explicación del proceso de trabajo sobre el dataset de spotify"
   ]
  },
  {
   "cell_type": "markdown",
   "id": "b04fdc21",
   "metadata": {},
   "source": [
    "## Consigna : \n",
    "Top 100 de temas musicales de Spotify 2010 a 2019: \n",
    "\n",
    "Deberá adaptar los datos de la siguiente forma:\n",
    "● Poner en “title case” los géneros musicales excepto las siglas EDM, DFW, UK, R&B y\n",
    "LGBTQ+ que deben ir en mayúsculas. Por ejemplo “dfw rap” debe ser transformado a\n",
    "“DFW Rap”.\n",
    "● Considerar también la excepción “k-pop” que debe ser transformada a “K-Pop”.\n",
    "● Se utilizarán como datos de las tarjetas “Top Genre”, “Year Released”, “BPM”, “Top\n",
    "Year” y “Artist Type”. Como dato a adivinar se utilizará “Artist”. Descartar el resto de las\n",
    "columnas.\n",
    "● El archivo resultante deberá tener las siguientes columnas (en este orden específico):\n",
    "“Top Genre”, “Artist Type”, “Year Released”, “Top Year”, “BPM” y “Artist”"
   ]
  },
  {
   "cell_type": "markdown",
   "id": "3857330d",
   "metadata": {},
   "source": [
    "### URL : https://www.kaggle.com/datasets/muhmores/spotify-top-100-songs-of-20152019"
   ]
  },
  {
   "cell_type": "markdown",
   "id": "4006969b",
   "metadata": {},
   "source": [
    "## Implementación del código"
   ]
  },
  {
   "cell_type": "markdown",
   "id": "7a1f7caf",
   "metadata": {},
   "source": [
    "Primero sería necesario importar las librerias a utilizar"
   ]
  },
  {
   "cell_type": "code",
   "execution_count": 1,
   "id": "f0303fb6",
   "metadata": {},
   "outputs": [],
   "source": [
    "import os\n",
    "import pandas as pd "
   ]
  },
  {
   "cell_type": "markdown",
   "id": "d6d1df93",
   "metadata": {},
   "source": [
    "Luego preparo las rutas desde donde obtengo el dataset y donde voy a guardar el o los archivos necesarios para procesar la información. "
   ]
  },
  {
   "cell_type": "code",
   "execution_count": 2,
   "id": "fc803e5b",
   "metadata": {},
   "outputs": [],
   "source": [
    "carpeta_archivo = os.path.join(\"folder_csv\")\n",
    "ruta_archivos = os.path.join(os.getcwd(), carpeta_archivo)\n",
    "\n",
    "spotify_csv = os.path.join(ruta_archivos, \"Spotify 2010 - 2019 Top 100.csv\")\n",
    "artistas_con_pandas = os.path.join(ruta_archivos, \"artistas_pandas.csv\")"
   ]
  },
  {
   "cell_type": "markdown",
   "id": "5f073297",
   "metadata": {},
   "source": [
    "Creo un nuevo DataFrame con el archivo original de spotify."
   ]
  },
  {
   "cell_type": "code",
   "execution_count": 3,
   "id": "490cb01c",
   "metadata": {},
   "outputs": [],
   "source": [
    "data_set = pd.read_csv(spotify_csv, encoding='utf-8')"
   ]
  },
  {
   "cell_type": "markdown",
   "id": "0b3d12cc",
   "metadata": {},
   "source": [
    "Creo un nuevo DataFrame, que será la estructura que soporte todos los cambios y sobre la cuál se realizaran las modificaciones para obtener el resultado esperado. Quedando el primer DataFrame con el contenido del archivo original. \n",
    "El primer paso es limpiar un poco el data_frame, con esta función se eliminan ciertas filas que contenian datos \"Nan\" innecesarios. "
   ]
  },
  {
   "cell_type": "code",
   "execution_count": 4,
   "id": "f154f477",
   "metadata": {},
   "outputs": [],
   "source": [
    "data_frame = data_set.dropna()"
   ]
  },
  {
   "cell_type": "markdown",
   "id": "2cb8894d",
   "metadata": {},
   "source": [
    "Con esta función se realizan las modificaciones necesarias en los datos de la columna \"top genre\".Y retorna un DataFrame con los cambios realizados. "
   ]
  },
  {
   "cell_type": "code",
   "execution_count": 5,
   "id": "4bb517a9",
   "metadata": {},
   "outputs": [],
   "source": [
    "def preparar_dataframe(data_frame):\n",
    "    \"\"\"\n",
    "    Modificación de la columna \"top genre\".\n",
    "\n",
    "    Se modifica la columna top genre\" del DataFrame \n",
    "    que se recibe como parámetro denominado 'data_frame',\n",
    "    según una serie de pautas descriptas en la consigna.\n",
    "    \"\"\"\n",
    "    siglas = ['Edm', 'Dfw', 'Uk', 'R&b', 'Lgbtq+']\n",
    "    \n",
    "    copia = data_frame.copy()\n",
    "    \n",
    "    \n",
    "    copia[\"top genre\"] = copia[\"top genre\"].apply(lambda x: x.title()) \n",
    "    copia[\"top genre\"] = copia[\"top genre\"].apply(lambda x: x.upper() if x.split(\"-\")[0] == 'K' else x)\n",
    "    copia[\"top genre\"] = copia[\"top genre\"].apply(lambda x: x.split(\" \", 1)[0].upper() if x.split(\" \", 1)[0] in siglas else x)\n",
    "    \n",
    "    return copia"
   ]
  },
  {
   "cell_type": "markdown",
   "id": "72d7f90e",
   "metadata": {},
   "source": [
    "Esta función retorna un DataFrame compuesto por las columnas del dataset original que son de interés para llevar a cabo la funcionalidad del juego. "
   ]
  },
  {
   "cell_type": "code",
   "execution_count": 6,
   "id": "b66dd6b7",
   "metadata": {},
   "outputs": [],
   "source": [
    "def generar_mi_data_frame(data_frame):\n",
    "    \"\"\"\n",
    "    Preparación del DataFrame con la información necesaria. \n",
    "\n",
    "    Recibe el data_frame de trabajo y \n",
    "    se eliminan las columnas que no son de intéres..\n",
    "    \"\"\"\n",
    "    copia = data_frame.copy()\n",
    "    copia = copia[[copia.columns[2], copia.columns[15], copia.columns[3], \n",
    "                   copia.columns[14], copia.columns[5], copia.columns[1]]] \n",
    "    copia.columns = copia.columns.map(lambda x: x.title() if x != \"bpm\" else x.upper())\n",
    "    \n",
    "    return copia "
   ]
  },
  {
   "cell_type": "markdown",
   "id": "17e602c2",
   "metadata": {},
   "source": [
    "Esta función permite generar un archivo csv con el DataFrame procesado."
   ]
  },
  {
   "cell_type": "code",
   "execution_count": 7,
   "id": "c7a2303f",
   "metadata": {},
   "outputs": [],
   "source": [
    "def generar_archivo(data_frame):\n",
    "    data_frame.to_csv(artistas_con_pandas, index=False)"
   ]
  },
  {
   "cell_type": "code",
   "execution_count": 8,
   "id": "5eec76db",
   "metadata": {},
   "outputs": [
    {
     "data": {
      "text/html": [
       "<div>\n",
       "<style scoped>\n",
       "    .dataframe tbody tr th:only-of-type {\n",
       "        vertical-align: middle;\n",
       "    }\n",
       "\n",
       "    .dataframe tbody tr th {\n",
       "        vertical-align: top;\n",
       "    }\n",
       "\n",
       "    .dataframe thead th {\n",
       "        text-align: right;\n",
       "    }\n",
       "</style>\n",
       "<table border=\"1\" class=\"dataframe\">\n",
       "  <thead>\n",
       "    <tr style=\"text-align: right;\">\n",
       "      <th></th>\n",
       "      <th>Top Genre</th>\n",
       "      <th>Top Year</th>\n",
       "      <th>Year Released</th>\n",
       "      <th>Pop</th>\n",
       "      <th>BPM</th>\n",
       "      <th>Artist</th>\n",
       "    </tr>\n",
       "  </thead>\n",
       "  <tbody>\n",
       "    <tr>\n",
       "      <th>0</th>\n",
       "      <td>Dance Pop</td>\n",
       "      <td>2010.0</td>\n",
       "      <td>2009.0</td>\n",
       "      <td>70.0</td>\n",
       "      <td>140.0</td>\n",
       "      <td>3OH!3</td>\n",
       "    </tr>\n",
       "    <tr>\n",
       "      <th>1</th>\n",
       "      <td>Dance Pop</td>\n",
       "      <td>2010.0</td>\n",
       "      <td>2010.0</td>\n",
       "      <td>68.0</td>\n",
       "      <td>138.0</td>\n",
       "      <td>3OH!3</td>\n",
       "    </tr>\n",
       "    <tr>\n",
       "      <th>2</th>\n",
       "      <td>Pop Soul</td>\n",
       "      <td>2010.0</td>\n",
       "      <td>2010.0</td>\n",
       "      <td>72.0</td>\n",
       "      <td>95.0</td>\n",
       "      <td>Aloe Blacc</td>\n",
       "    </tr>\n",
       "    <tr>\n",
       "      <th>3</th>\n",
       "      <td>Atl Hip Hop</td>\n",
       "      <td>2010.0</td>\n",
       "      <td>2010.0</td>\n",
       "      <td>80.0</td>\n",
       "      <td>93.0</td>\n",
       "      <td>B.o.B</td>\n",
       "    </tr>\n",
       "    <tr>\n",
       "      <th>4</th>\n",
       "      <td>Atl Hip Hop</td>\n",
       "      <td>2010.0</td>\n",
       "      <td>2010.0</td>\n",
       "      <td>79.0</td>\n",
       "      <td>104.0</td>\n",
       "      <td>B.o.B</td>\n",
       "    </tr>\n",
       "    <tr>\n",
       "      <th>...</th>\n",
       "      <td>...</td>\n",
       "      <td>...</td>\n",
       "      <td>...</td>\n",
       "      <td>...</td>\n",
       "      <td>...</td>\n",
       "      <td>...</td>\n",
       "    </tr>\n",
       "    <tr>\n",
       "      <th>995</th>\n",
       "      <td>Hip Hop</td>\n",
       "      <td>2019.0</td>\n",
       "      <td>2018.0</td>\n",
       "      <td>86.0</td>\n",
       "      <td>155.0</td>\n",
       "      <td>Travis Scott</td>\n",
       "    </tr>\n",
       "    <tr>\n",
       "      <th>996</th>\n",
       "      <td>Hip Hop</td>\n",
       "      <td>2019.0</td>\n",
       "      <td>2019.0</td>\n",
       "      <td>85.0</td>\n",
       "      <td>80.0</td>\n",
       "      <td>Tyler, The Creator</td>\n",
       "    </tr>\n",
       "    <tr>\n",
       "      <th>997</th>\n",
       "      <td>Grime</td>\n",
       "      <td>2019.0</td>\n",
       "      <td>2019.0</td>\n",
       "      <td>68.0</td>\n",
       "      <td>103.0</td>\n",
       "      <td>Wiley</td>\n",
       "    </tr>\n",
       "    <tr>\n",
       "      <th>998</th>\n",
       "      <td>Afroswing</td>\n",
       "      <td>2019.0</td>\n",
       "      <td>2019.0</td>\n",
       "      <td>67.0</td>\n",
       "      <td>138.0</td>\n",
       "      <td>Young T &amp; Bugsey</td>\n",
       "    </tr>\n",
       "    <tr>\n",
       "      <th>999</th>\n",
       "      <td>Atl Hip Hop</td>\n",
       "      <td>2019.0</td>\n",
       "      <td>2019.0</td>\n",
       "      <td>75.0</td>\n",
       "      <td>98.0</td>\n",
       "      <td>Young Thug</td>\n",
       "    </tr>\n",
       "  </tbody>\n",
       "</table>\n",
       "<p>1000 rows × 6 columns</p>\n",
       "</div>"
      ],
      "text/plain": [
       "       Top Genre  Top Year  Year Released   Pop    BPM              Artist\n",
       "0      Dance Pop    2010.0         2009.0  70.0  140.0               3OH!3\n",
       "1      Dance Pop    2010.0         2010.0  68.0  138.0               3OH!3\n",
       "2       Pop Soul    2010.0         2010.0  72.0   95.0          Aloe Blacc\n",
       "3    Atl Hip Hop    2010.0         2010.0  80.0   93.0               B.o.B\n",
       "4    Atl Hip Hop    2010.0         2010.0  79.0  104.0               B.o.B\n",
       "..           ...       ...            ...   ...    ...                 ...\n",
       "995      Hip Hop    2019.0         2018.0  86.0  155.0        Travis Scott\n",
       "996      Hip Hop    2019.0         2019.0  85.0   80.0  Tyler, The Creator\n",
       "997        Grime    2019.0         2019.0  68.0  103.0               Wiley\n",
       "998    Afroswing    2019.0         2019.0  67.0  138.0    Young T & Bugsey\n",
       "999  Atl Hip Hop    2019.0         2019.0  75.0   98.0          Young Thug\n",
       "\n",
       "[1000 rows x 6 columns]"
      ]
     },
     "execution_count": 8,
     "metadata": {},
     "output_type": "execute_result"
    }
   ],
   "source": [
    "data_frame = preparar_dataframe(data_frame)\n",
    "#data_frame[\"Top Genre\"].unique()\n",
    "data_frame = generar_mi_data_frame(data_frame)\n",
    "generar_archivo(data_frame)\n",
    "data_frame\n"
   ]
  },
  {
   "cell_type": "code",
   "execution_count": null,
   "id": "fab032c1",
   "metadata": {},
   "outputs": [],
   "source": []
  }
 ],
 "metadata": {
  "kernelspec": {
   "display_name": "Python 3.10.4 64-bit",
   "language": "python",
   "name": "python3"
  },
  "language_info": {
   "codemirror_mode": {
    "name": "ipython",
    "version": 3
   },
   "file_extension": ".py",
   "mimetype": "text/x-python",
   "name": "python",
   "nbconvert_exporter": "python",
   "pygments_lexer": "ipython3",
   "version": "3.10.4"
  },
  "vscode": {
   "interpreter": {
    "hash": "b7d009336def52a998187f0c74cb0dcae5efaff3652a19f33f60b07f7f81c0f3"
   }
  }
 },
 "nbformat": 4,
 "nbformat_minor": 5
}
